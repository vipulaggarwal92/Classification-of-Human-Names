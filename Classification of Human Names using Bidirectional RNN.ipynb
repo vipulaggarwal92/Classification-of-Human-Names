{
  "nbformat": 4,
  "nbformat_minor": 0,
  "metadata": {
    "colab": {
      "name": "IDS576 HW3 Q4(e) - Bidirectional RNN.ipynb",
      "provenance": [],
      "collapsed_sections": []
    },
    "kernelspec": {
      "name": "python3",
      "display_name": "Python 3"
    }
  },
  "cells": [
    {
      "cell_type": "code",
      "metadata": {
        "id": "3Tk1KvOI1MU_",
        "colab_type": "code",
        "outputId": "e02891a0-5835-4ec2-8d9c-878a40a4c35e",
        "colab": {
          "base_uri": "https://localhost:8080/",
          "height": 54
        }
      },
      "source": [
        "#from google.colab import drive\n",
        "#drive.mount('/content/drive')\n",
        "import glob\n",
        "\n",
        "def findFiles(path): return glob.glob(path)\n",
        "\n",
        "print(findFiles('/content/drive/My Drive/data/names/*.txt'))"
      ],
      "execution_count": 3,
      "outputs": [
        {
          "output_type": "stream",
          "text": [
            "['/content/drive/My Drive/data/names/Greek_test.txt', '/content/drive/My Drive/data/names/Irish_train.txt', '/content/drive/My Drive/data/names/Korean_train.txt', '/content/drive/My Drive/data/names/Irish_test.txt', '/content/drive/My Drive/data/names/Italian_test.txt', '/content/drive/My Drive/data/names/Italian_train.txt', '/content/drive/My Drive/data/names/Greek_train.txt', '/content/drive/My Drive/data/names/Japanese_test.txt', '/content/drive/My Drive/data/names/Japanese_train.txt', '/content/drive/My Drive/data/names/Korean_test.txt', '/content/drive/My Drive/data/names/Polish_test.txt', '/content/drive/My Drive/data/names/Portuguese_train.txt', '/content/drive/My Drive/data/names/Polish_train.txt', '/content/drive/My Drive/data/names/Russian_train.txt', '/content/drive/My Drive/data/names/Russian_test.txt', '/content/drive/My Drive/data/names/Portuguese_test.txt', '/content/drive/My Drive/data/names/Scottish_test.txt', '/content/drive/My Drive/data/names/Spanish_test.txt', '/content/drive/My Drive/data/names/Spanish_train.txt', '/content/drive/My Drive/data/names/Scottish_train.txt', '/content/drive/My Drive/data/names/Vietnamese_test.txt', '/content/drive/My Drive/data/names/Dutch_train.txt', '/content/drive/My Drive/data/names/Vietnamese_train.txt', '/content/drive/My Drive/data/names/Czech_train.txt', '/content/drive/My Drive/data/names/Czech_test.txt', '/content/drive/My Drive/data/names/Chinese_test.txt', '/content/drive/My Drive/data/names/Arabic_train.txt', '/content/drive/My Drive/data/names/Chinese_train.txt', '/content/drive/My Drive/data/names/Dutch_test.txt', '/content/drive/My Drive/data/names/Arabic_test.txt', '/content/drive/My Drive/data/names/English_test.txt', '/content/drive/My Drive/data/names/German_train.txt', '/content/drive/My Drive/data/names/German_test.txt', '/content/drive/My Drive/data/names/French_test.txt', '/content/drive/My Drive/data/names/English_train.txt', '/content/drive/My Drive/data/names/French_train.txt']\n"
          ],
          "name": "stdout"
        }
      ]
    },
    {
      "cell_type": "code",
      "metadata": {
        "id": "o7VUvwzKkHIt",
        "colab_type": "code",
        "outputId": "02dc8075-bf9f-4818-815c-b747922edba6",
        "colab": {
          "base_uri": "https://localhost:8080/",
          "height": 34
        }
      },
      "source": [
        "from __future__ import unicode_literals, print_function, division\n",
        "from io import open\n",
        "import os\n",
        "\n",
        "import unicodedata\n",
        "import string\n",
        "\n",
        "all_letters = string.ascii_letters + \" .,;\"\n",
        "n_letters = len(all_letters)\n",
        "\n",
        "def unicodeToAscii(s):\n",
        "  return ''.join(\n",
        "      c for c in unicodedata.normalize('NFD',s)\n",
        "      if unicodedata.category(c) != 'Mn'\n",
        "      and c in all_letters\n",
        "  )\n",
        "\n",
        "print(unicodeToAscii('Ślusàrski'))"
      ],
      "execution_count": 4,
      "outputs": [
        {
          "output_type": "stream",
          "text": [
            "Slusarski\n"
          ],
          "name": "stdout"
        }
      ]
    },
    {
      "cell_type": "code",
      "metadata": {
        "id": "vftuW3t1nqb-",
        "colab_type": "code",
        "colab": {}
      },
      "source": [
        "# Build the category_lines dictionary, a list of names per language\n",
        "category_lines = {}\n",
        "all_categories = []\n",
        "\n",
        "# Read a file and split into lines\n",
        "def readLines(filename):\n",
        "    lines = open(filename, encoding='utf-8').read().strip().split('\\n')\n",
        "    return [unicodeToAscii(line) for line in lines]\n",
        "\n",
        "for filename in findFiles('/content/drive/My Drive/data/names/*.txt'):\n",
        "  category = os.path.splitext(os.path.basename(filename))[0]\n",
        "  all_categories.append(category)\n",
        "  lines = readLines(filename)\n",
        "  category_lines[category] = lines\n",
        "\n",
        "#n_categories = len(all_categories)\n",
        "\n",
        "#print('# categories:', n_categories, all_categories)"
      ],
      "execution_count": 0,
      "outputs": []
    },
    {
      "cell_type": "code",
      "metadata": {
        "id": "1aMQpyHApgIo",
        "colab_type": "code",
        "colab": {}
      },
      "source": [
        "#Slicing the train and test data\n",
        "import re\n",
        "\n",
        "def slicedict(d,s):\n",
        "  return{k:v for k,v in d.items() if k.endswith(s)}\n",
        "\n",
        "train_dict = slicedict(category_lines,'train')\n",
        "test_dict  = slicedict(category_lines,'test')\n",
        "\n",
        "train_categories = [s for s in all_categories if \"train\" in s]\n",
        "test_categories  = [s for s in all_categories if \"test\" in s]\n",
        "\n",
        "train_categories = ([s.replace('_train', '') for s in train_categories])\n",
        "test_categories = ([s.replace('_test', '') for s in test_categories])\n",
        "\n",
        "n_categories = len(train_categories)\n",
        "\n",
        "train_data = {}\n",
        "test_data  = {}\n",
        "\n",
        "for k,v in train_dict.items():\n",
        "  \n",
        "  val = v[0]\n",
        "  val = re.findall('[A-Z][^A-Z]*', val)\n",
        "  train_data[k] = val\n",
        "\n",
        "for k,v in test_dict.items():\n",
        "  \n",
        "  val = v[0]\n",
        "  val = re.findall('[A-Z][^A-Z]*', val)\n",
        "  test_data[k] = val"
      ],
      "execution_count": 0,
      "outputs": []
    },
    {
      "cell_type": "code",
      "metadata": {
        "id": "YYMWMCbKd8y9",
        "colab_type": "code",
        "colab": {}
      },
      "source": [
        "#Please run this code again if there's an error in the step below\n",
        "for key,val in train_data.items():\n",
        "  key1 = key.replace('_train', '')\n",
        "  train_data[key1] = train_data.pop(key)\n",
        "\n",
        "for key,val in test_data.items():\n",
        "  key1 = key.replace('_test', '')\n",
        "  test_data[key1] = test_data.pop(key)\n",
        "\n",
        "for key,val in train_data.items():\n",
        "  key1 = key.replace('_train', '')\n",
        "  train_data[key1] = train_data.pop(key)\n",
        "\n",
        "for key,val in test_data.items():\n",
        "  key1 = key.replace('_test', '')\n",
        "  test_data[key1] = test_data.pop(key)"
      ],
      "execution_count": 0,
      "outputs": []
    },
    {
      "cell_type": "code",
      "metadata": {
        "id": "h_0134xkz2XS",
        "colab_type": "code",
        "outputId": "78863c1e-05d4-48cf-b988-d7843131579b",
        "colab": {
          "base_uri": "https://localhost:8080/",
          "height": 87
        }
      },
      "source": [
        "print(test_data['French'][:5])\n",
        "print(train_data['French'][:5])\n",
        "\n",
        "train_data.keys()"
      ],
      "execution_count": 8,
      "outputs": [
        {
          "output_type": "stream",
          "text": [
            "['Tailler', 'Janvier', 'Babineaux', 'Baudin', 'Leclerc']\n",
            "['Paternoster', 'Faucheux', 'Vincent', 'Parris', 'Bonnay']\n"
          ],
          "name": "stdout"
        },
        {
          "output_type": "execute_result",
          "data": {
            "text/plain": [
              "dict_keys(['German', 'English', 'French', 'Irish', 'Japanese', 'Portuguese', 'Polish', 'Russian', 'Korean', 'Italian', 'Greek', 'Spanish', 'Scottish', 'Dutch', 'Vietnamese', 'Czech', 'Arabic', 'Chinese'])"
            ]
          },
          "metadata": {
            "tags": []
          },
          "execution_count": 8
        }
      ]
    },
    {
      "cell_type": "code",
      "metadata": {
        "id": "SEOpLnKErFHE",
        "colab_type": "code",
        "outputId": "7dd0d896-86dc-493b-c02c-8bd85c70e8aa",
        "colab": {
          "base_uri": "https://localhost:8080/",
          "height": 101
        }
      },
      "source": [
        "import torch\n",
        "\n",
        "# Find letter index from all_letters, e.g. \"a\" = 0\n",
        "def letterToIndex(letter):\n",
        "    return all_letters.find(letter)\n",
        "\n",
        "# Just for demonstration, turn a letter into a <1 x n_letters> Tensor\n",
        "def letterToTensor(letter):\n",
        "    tensor = torch.zeros(1, n_letters)\n",
        "    tensor[0][letterToIndex(letter)] = 1\n",
        "    return tensor\n",
        "\n",
        "# Turn a line into a <line_length x 1 x n_letters>,\n",
        "# or an array of one-hot letter vectors\n",
        "def lineToTensor(line):\n",
        "    tensor = torch.zeros(len(line), 1, n_letters)\n",
        "    for li, letter in enumerate(line):\n",
        "        tensor[li][0][letterToIndex(letter)] = 1\n",
        "    return tensor\n",
        "\n",
        "print(letterToTensor('J'))\n",
        "\n",
        "print(lineToTensor('Jones').size())"
      ],
      "execution_count": 9,
      "outputs": [
        {
          "output_type": "stream",
          "text": [
            "tensor([[0., 0., 0., 0., 0., 0., 0., 0., 0., 0., 0., 0., 0., 0., 0., 0., 0., 0.,\n",
            "         0., 0., 0., 0., 0., 0., 0., 0., 0., 0., 0., 0., 0., 0., 0., 0., 0., 1.,\n",
            "         0., 0., 0., 0., 0., 0., 0., 0., 0., 0., 0., 0., 0., 0., 0., 0., 0., 0.,\n",
            "         0., 0.]])\n",
            "torch.Size([5, 1, 56])\n"
          ],
          "name": "stdout"
        }
      ]
    },
    {
      "cell_type": "code",
      "metadata": {
        "id": "PyPH52D_9jsx",
        "colab_type": "code",
        "colab": {}
      },
      "source": [
        "#Embedding with GRU class\n",
        "\n",
        "import torch.nn as nn\n",
        "\n",
        "class BiRNN(nn.Module): \n",
        "\n",
        "    def __init__(self, input_size, hidden_size, output_size):\n",
        "        super(BiRNN, self).__init__()\n",
        "        self.hidden_size = hidden_size\n",
        "        self.word_embeddings = nn.Embedding(56, 56)\n",
        "        self.lstm_cell = nn.LSTM(input_size, hidden_size,  bidirectional=True) #LSTM cell\n",
        "        self.h2o = nn.Linear(hidden_size*2, output_size)\n",
        "        self.softmax = nn.LogSoftmax(dim = 2)\n",
        "      \n",
        "    def forward(self, input, hidden):\n",
        "\n",
        "        one = torch.tensor(1)\n",
        "        idx = (input == one).nonzero().flatten()\n",
        "        idx = idx.tolist()[1]\n",
        "\n",
        "        input = self.word_embeddings(torch.LongTensor([idx]))        \n",
        "        output, hidden = self.lstm_cell(input.view(1,1,-1), hidden)\n",
        "        #print(len(hidden))\n",
        "        #print(len(hidden[0]))\n",
        "        output = self.h2o(output)\n",
        "        output = self.softmax(output)\n",
        "        return output.view(1,-1), hidden\n",
        "\n",
        "    def init_hidden(self):\n",
        "        return (torch.zeros(1,1, self.hidden_size), torch.zeros(1,1, self.hidden_size))\n",
        "\n",
        "n_hidden = 128\n",
        "birnn = BiRNN(n_letters, n_hidden, n_categories)"
      ],
      "execution_count": 0,
      "outputs": []
    },
    {
      "cell_type": "code",
      "metadata": {
        "id": "IuShgX9k1V9o",
        "colab_type": "code",
        "colab": {}
      },
      "source": [
        "input = letterToTensor('a')\n",
        "hidden =torch.zeros(2, 1, n_hidden), torch.zeros(2, 1, n_hidden)\n",
        "\n",
        "output, next_hidden = birnn(input, hidden)\n",
        "\n",
        "input = lineToTensor('Albert')\n",
        "hidden =torch.zeros(2, 1, n_hidden), torch.zeros(2, 1, n_hidden)\n",
        "\n",
        "output, next_hidden = birnn(input[0], hidden)"
      ],
      "execution_count": 0,
      "outputs": []
    },
    {
      "cell_type": "code",
      "metadata": {
        "id": "ZZhhvtAPm9AV",
        "colab_type": "code",
        "colab": {}
      },
      "source": [
        "def categoryFromOutput(output):\n",
        "    \n",
        "    top_n, top_i = output.topk(1)\n",
        "   # print(top_n,top_i,top_i[0].item())\n",
        "    category_i = top_i[0].item()\n",
        "    return train_categories[category_i], category_i\n",
        "\n",
        "#print(categoryFromOutput(output))"
      ],
      "execution_count": 0,
      "outputs": []
    },
    {
      "cell_type": "code",
      "metadata": {
        "id": "l1UgIcdHCh2Z",
        "colab_type": "code",
        "outputId": "4094ef09-f15a-49ba-d78a-a6705d8e596d",
        "colab": {
          "base_uri": "https://localhost:8080/",
          "height": 185
        }
      },
      "source": [
        "import random\n",
        "\n",
        "def randomChoice(l):\n",
        "    return l[random.randint(0, len(l) - 1)]\n",
        "\n",
        "def randomTrainingExample():\n",
        "    category = randomChoice(train_categories)\n",
        "    line = randomChoice(train_data[category])\n",
        "    category_tensor = torch.tensor([train_categories.index(category)], dtype=torch.long)\n",
        "    line_tensor = lineToTensor(line)\n",
        "    return category, line, category_tensor, line_tensor\n",
        "\n",
        "for i in range(10):\n",
        "    category, line, category_tensor, line_tensor = randomTrainingExample()\n",
        "    print('category =', category, '/ line =', line, category_tensor)"
      ],
      "execution_count": 18,
      "outputs": [
        {
          "output_type": "stream",
          "text": [
            "category = Vietnamese / line = Diep tensor([11])\n",
            "category = Italian / line = Mazza tensor([2])\n",
            "category = Russian / line = Daraev tensor([7])\n",
            "category = Chinese / line = Zhuan tensor([14])\n",
            "category = Irish / line = Roach tensor([0])\n",
            "category = Arabic / line = Shammas tensor([13])\n",
            "category = Japanese / line = Atshushi tensor([4])\n",
            "category = Japanese / line = Komatsu tensor([4])\n",
            "category = Italian / line = Spano tensor([2])\n",
            "category = Korean / line = Chou tensor([1])\n"
          ],
          "name": "stdout"
        }
      ]
    },
    {
      "cell_type": "code",
      "metadata": {
        "id": "FIsPu_91nGs7",
        "colab_type": "code",
        "colab": {}
      },
      "source": [
        "criterion = nn.NLLLoss()\n",
        "learning_rate = 0.05 # If you set this too high, it might explode. If too low, it might not learn\n",
        "\n",
        "def train(category_tensor, line_tensor):\n",
        "    hidden = (torch.zeros(2,1,128), torch.zeros(2,1,128))\n",
        "    \n",
        "    birnn.zero_grad()\n",
        "    \n",
        "    for i in range(line_tensor.size()[0]):\n",
        "        output, hidden = birnn(line_tensor[i], hidden)\n",
        "\n",
        "    loss = criterion(output, category_tensor)\n",
        "    loss.backward()\n",
        "\n",
        "    # Add parameters' gradients to their values, multiplied by learning rate\n",
        "    for p in birnn.parameters():\n",
        "       p.data.add_(-learning_rate, p.grad.data)\n",
        "\n",
        "    return output, loss.item()"
      ],
      "execution_count": 0,
      "outputs": []
    },
    {
      "cell_type": "code",
      "metadata": {
        "id": "Qsv1_AY-njf0",
        "colab_type": "code",
        "outputId": "e0f1d41f-7841-457e-88b3-cb6fa98cd06f",
        "colab": {
          "base_uri": "https://localhost:8080/",
          "height": 353
        }
      },
      "source": [
        "import time\n",
        "import math\n",
        "\n",
        "#n_iters = 2\n",
        "n_iters = 100000\n",
        "print_every = 5000\n",
        "plot_every = 1000\n",
        "\n",
        "#Keep track of losses for plotting\n",
        "current_loss = 0\n",
        "all_losses = []\n",
        "\n",
        "def timeSince(since):\n",
        "    now = time.time()\n",
        "    s = now - since\n",
        "    m = math.floor(s / 60)\n",
        "    s -= m * 60\n",
        "    return '%dm %ds' % (m, s)\n",
        "\n",
        "start = time.time()\n",
        "match = 0\n",
        "total = 0\n",
        "\n",
        "for iter in range(1, n_iters + 1):\n",
        "\n",
        "    category, line, category_tensor, line_tensor = randomTrainingExample()\n",
        "    output, loss = train(category_tensor, line_tensor)\n",
        "    current_loss += loss\n",
        "       \n",
        "    guess, guess_i = categoryFromOutput(output)\n",
        "\n",
        "    if guess == category:\n",
        "       match = match + 1\n",
        "\n",
        "    total = total + 1\n",
        "\n",
        "    # Print iter number, loss, name and guess\n",
        "    if iter % print_every == 0:\n",
        "        #guess, guess_i = categoryFromOutput(output)\n",
        "        correct = '✓' if guess == category else '✗ (%s)' % category\n",
        "        \n",
        "        print('%d %d%% (%s) %.4f %s / %s %s' % (iter, iter / n_iters * 100, timeSince(start), loss, line, guess, correct))\n",
        "\n",
        "    # Add current loss avg to list of losses\n",
        "    if iter % plot_every == 0:\n",
        "        all_losses.append(current_loss / plot_every)\n",
        "        current_loss = 0"
      ],
      "execution_count": 20,
      "outputs": [
        {
          "output_type": "stream",
          "text": [
            "5000 5% (0m 41s) 0.6110 Solo / Spanish ✓\n",
            "10000 10% (1m 22s) 0.1316 Ajnikoff / Russian ✓\n",
            "15000 15% (2m 4s) 0.1456 Vuong / Vietnamese ✓\n",
            "20000 20% (2m 46s) 0.3493 Ballaltick / Czech ✓\n",
            "25000 25% (3m 28s) 1.3672 Ma / Korean ✗ (Vietnamese)\n",
            "30000 30% (4m 9s) 0.0394 Tron / Vietnamese ✓\n",
            "35000 35% (4m 50s) 1.2107 Cleirich / Czech ✗ (Irish)\n",
            "40000 40% (5m 32s) 0.5223 Muso / Japanese ✓\n",
            "45000 45% (6m 13s) 0.7125 Jizdik / Russian ✓\n",
            "50000 50% (6m 54s) 0.0008 Tsuchie / Japanese ✓\n",
            "55000 55% (7m 35s) 0.0087 Mackay / Scottish ✓\n",
            "60000 60% (8m 17s) 0.0041 O / Irish ✓\n",
            "65000 65% (8m 57s) 0.0298 Schroeder / German ✓\n",
            "70000 70% (9m 37s) 0.0317 Halloran / Irish ✓\n",
            "75000 75% (10m 17s) 0.5899 Mari / Italian ✓\n",
            "80000 80% (10m 58s) 0.1230 Aonghuis / Irish ✓\n",
            "85000 85% (11m 38s) 0.0392 Yeon / Korean ✓\n",
            "90000 90% (12m 18s) 0.0944 Di pietro / Italian ✓\n",
            "95000 95% (12m 58s) 0.1533 Mari / Italian ✓\n",
            "100000 100% (13m 38s) 0.0024 Sokal / Polish ✓\n"
          ],
          "name": "stdout"
        }
      ]
    },
    {
      "cell_type": "markdown",
      "metadata": {
        "id": "YSMfVLrqTfH4",
        "colab_type": "text"
      },
      "source": [
        "We observe that there **are no NaN values.**"
      ]
    },
    {
      "cell_type": "code",
      "metadata": {
        "id": "GzOlaFGhDr1N",
        "colab_type": "code",
        "colab": {
          "base_uri": "https://localhost:8080/",
          "height": 34
        },
        "outputId": "48d2132c-e6da-40cd-b623-676dd2747928"
      },
      "source": [
        "acc_train = match/total * 100\n",
        "acc_train"
      ],
      "execution_count": 21,
      "outputs": [
        {
          "output_type": "execute_result",
          "data": {
            "text/plain": [
              "80.471"
            ]
          },
          "metadata": {
            "tags": []
          },
          "execution_count": 21
        }
      ]
    },
    {
      "cell_type": "code",
      "metadata": {
        "id": "zz1Hc7a7nlYy",
        "colab_type": "code",
        "colab": {
          "base_uri": "https://localhost:8080/",
          "height": 284
        },
        "outputId": "9b6995d9-6a1f-49ba-b483-4d8d97458fdc"
      },
      "source": [
        "import matplotlib.pyplot as plt\n",
        "import matplotlib.ticker as ticker\n",
        "\n",
        "plt.figure()\n",
        "plt.plot(all_losses)"
      ],
      "execution_count": 22,
      "outputs": [
        {
          "output_type": "execute_result",
          "data": {
            "text/plain": [
              "[<matplotlib.lines.Line2D at 0x7f5b6d9cb550>]"
            ]
          },
          "metadata": {
            "tags": []
          },
          "execution_count": 22
        },
        {
          "output_type": "display_data",
          "data": {
            "image/png": "[encoded data removed]",
            "text/plain": [
              "<Figure size 432x288 with 1 Axes>"
            ]
          },
          "metadata": {
            "tags": []
          }
        }
      ]
    },
    {
      "cell_type": "code",
      "metadata": {
        "id": "z6JEoPYunri2",
        "colab_type": "code",
        "colab": {
          "base_uri": "https://localhost:8080/",
          "height": 320
        },
        "outputId": "9a4bd4c2-ddf2-4718-fb6b-5c7917f3abf5"
      },
      "source": [
        "confusion = torch.zeros(n_categories, n_categories)\n",
        "n_confusion = 10000\n",
        "\n",
        "# Just return an output given a line\n",
        "def evaluate(line_tensor):\n",
        "    hidden = (torch.zeros(2,1,128), torch.zeros(2,1,128))\n",
        "\n",
        "    for i in range(line_tensor.size()[0]):\n",
        "        output, hidden = birnn(line_tensor[i], hidden)\n",
        "\n",
        "    return output\n",
        "\n",
        "# Go through a bunch of examples and record which are correctly guessed\n",
        "for i in range(n_confusion):\n",
        "    category, line, category_tensor, line_tensor = randomTrainingExample()\n",
        "    output = evaluate(line_tensor)\n",
        "    guess, guess_i = categoryFromOutput(output)\n",
        "    category_i = train_categories.index(category)\n",
        "    confusion[category_i][guess_i] += 1\n",
        "\n",
        "# Normalize by dividing every row by its sum\n",
        "for i in range(n_categories):\n",
        "    confusion[i] = confusion[i] / confusion[i].sum()\n",
        "\n",
        "# Set up plot\n",
        "fig = plt.figure()\n",
        "ax = fig.add_subplot(111)\n",
        "cax = ax.matshow(confusion.numpy())\n",
        "fig.colorbar(cax)\n",
        "\n",
        "# Set up axes\n",
        "ax.set_xticklabels([''] + train_categories, rotation=90)\n",
        "ax.set_yticklabels([''] + train_categories)\n",
        "\n",
        "# Force label at every tick\n",
        "ax.xaxis.set_major_locator(ticker.MultipleLocator(1))\n",
        "ax.yaxis.set_major_locator(ticker.MultipleLocator(1))\n",
        "\n",
        "# sphinx_gallery_thumbnail_number = 2\n",
        "plt.show()"
      ],
      "execution_count": 24,
      "outputs": [
        {
          "output_type": "display_data",
          "data": {
            "image/png": "[encoded data removed]",
            "text/plain": [
              "<Figure size 432x288 with 2 Axes>"
            ]
          },
          "metadata": {
            "tags": []
          }
        }
      ]
    },
    {
      "cell_type": "markdown",
      "metadata": {
        "id": "D6GXy0bXeUq6",
        "colab_type": "text"
      },
      "source": [
        "We observe bright spots for languages like Greek which means that there is a high error rate for them."
      ]
    },
    {
      "cell_type": "code",
      "metadata": {
        "id": "y6dBbvKCnudb",
        "colab_type": "code",
        "colab": {}
      },
      "source": [
        "n_predictions = 1\n",
        "match = 0\n",
        "total = 0\n",
        "confusion = torch.zeros(n_categories, n_categories)\n",
        "\n",
        "for i in range(len(test_data)):\n",
        "\n",
        "  category = test_categories[i]\n",
        "  line     = test_data[category]\n",
        "  #print(line)\n",
        "  \n",
        "  for j in range(len(line)):\n",
        "    with torch.no_grad():\n",
        "        \n",
        "        input_line = line[j]\n",
        "\n",
        "        output = evaluate(lineToTensor(input_line))\n",
        "       \n",
        "        #Confusion Matrix\n",
        "        guess, guess_i = categoryFromOutput(output)\n",
        "        category_i = train_categories.index(category)\n",
        "        confusion[category_i][guess_i] += 1\n",
        "\n",
        "        topv, topi = output.topk(n_predictions, 1, True)\n",
        "        predictions = []\n",
        "        \n",
        "        value = topv[0][0].item()\n",
        "        category_index = topi[0][0].item()\n",
        "        #Keeping the category order same as the training data\n",
        "        predictions.append([value, train_categories[category_index]])\n",
        "\n",
        "        if train_categories[category_index] == category:\n",
        "          match = match + 1\n",
        "        \n",
        "        total = total + 1"
      ],
      "execution_count": 0,
      "outputs": []
    },
    {
      "cell_type": "code",
      "metadata": {
        "id": "GMN7uhoQGYD0",
        "colab_type": "code",
        "colab": {
          "base_uri": "https://localhost:8080/",
          "height": 34
        },
        "outputId": "df7b524c-7ecd-4f5f-fd73-307dd0082ce4"
      },
      "source": [
        "acc_test = match/total * 100\n",
        "acc_test"
      ],
      "execution_count": 26,
      "outputs": [
        {
          "output_type": "execute_result",
          "data": {
            "text/plain": [
              "77.72301626416954"
            ]
          },
          "metadata": {
            "tags": []
          },
          "execution_count": 26
        }
      ]
    },
    {
      "cell_type": "code",
      "metadata": {
        "id": "PyLQ1U9tLixD",
        "colab_type": "code",
        "colab": {
          "base_uri": "https://localhost:8080/",
          "height": 84
        },
        "outputId": "34911bc2-3d88-42bd-9554-5ed5d63a5e29"
      },
      "source": [
        "def predict(input_line, n_predictions=1):\n",
        "    print('\\n> %s' % input_line)\n",
        "    with torch.no_grad():\n",
        "        output = evaluate(lineToTensor(input_line))\n",
        "        # Get top N categories\n",
        "        topv, topi = output.topk(n_predictions, 1, True)\n",
        "        predictions = []\n",
        "        print(category)\n",
        "        for i in range(n_predictions):\n",
        "            value = topv[0][i].item()\n",
        "            category_index = topi[0][i].item()\n",
        "            print('(%.2f) %s' % (value, train_categories[category_index]))\n",
        "            predictions.append([value, train_categories[category_index]])\n",
        "\n",
        "\n",
        "predict('Dovesky')"
      ],
      "execution_count": 27,
      "outputs": [
        {
          "output_type": "stream",
          "text": [
            "\n",
            "> Dovesky\n",
            "French\n",
            "(-0.13) Russian\n"
          ],
          "name": "stdout"
        }
      ]
    },
    {
      "cell_type": "code",
      "metadata": {
        "id": "IusmKr5DHP4v",
        "colab_type": "code",
        "colab": {
          "base_uri": "https://localhost:8080/",
          "height": 320
        },
        "outputId": "a1cf8d3f-e0fb-432a-beb1-99aa71541616"
      },
      "source": [
        "\n",
        "# Normalize by dividing every row by its sum\n",
        "for i in range(n_categories):\n",
        "    confusion[i] = confusion[i] / confusion[i].sum()\n",
        "\n",
        "# Set up plot\n",
        "fig = plt.figure()\n",
        "ax = fig.add_subplot(111)\n",
        "cax = ax.matshow(confusion.numpy())\n",
        "fig.colorbar(cax)\n",
        "\n",
        "# Set up axes\n",
        "ax.set_xticklabels([''] + test_categories, rotation=90)\n",
        "ax.set_yticklabels([''] + test_categories)\n",
        "\n",
        "# Force label at every tick\n",
        "ax.xaxis.set_major_locator(ticker.MultipleLocator(1))\n",
        "ax.yaxis.set_major_locator(ticker.MultipleLocator(1))\n",
        "\n",
        "# sphinx_gallery_thumbnail_number = 2\n",
        "plt.show()"
      ],
      "execution_count": 28,
      "outputs": [
        {
          "output_type": "display_data",
          "data": {
            "image/png": "[encoded data removed]",
            "text/plain": [
              "<Figure size 432x288 with 2 Axes>"
            ]
          },
          "metadata": {
            "tags": []
          }
        }
      ]
    }
  ]
}